{
 "cells": [
  {
   "cell_type": "markdown",
   "metadata": {},
   "source": [
    "# Evaluate the algorithum\n",
    "use the gym environment in sumo_env.py"
   ]
  },
  {
   "cell_type": "markdown",
   "metadata": {},
   "source": [
    "### Part I: PPO"
   ]
  },
  {
   "cell_type": "code",
   "execution_count": null,
   "metadata": {},
   "outputs": [],
   "source": [
    "import ray\n",
    "import os\n",
    "from ray import tune, air\n",
    "from ray.tune.registry import register_env\n",
    "from ray.rllib.algorithms import dqn, ppo, sac\n",
    "\n",
    "from sumo_env import sumoEnv\n",
    "# from train_env import sumoEnv"
   ]
  },
  {
   "cell_type": "code",
   "execution_count": null,
   "metadata": {},
   "outputs": [],
   "source": [
    "rllib_config = {\"env\":sumoEnv,\n",
    "            \"env_config\":{\"algo\":\"PPO\"},\n",
    "            \"framework\":\"torch\",\n",
    "            \"num_workers\":1,\n",
    "            \"ignore_worker_failures\":True,\n",
    "            \"recreate_failed_workers\":True,\n",
    "            \"multiagent\":{\n",
    "                \"policies\":{\"shared_policy\"},\n",
    "                \"policy_mapping_fn\": (lambda agent_id, episode, **kwargs: \"shared_policy\"),\n",
    "            }\n",
    "}\n",
    "agent=ppo.PPO(config=rllib_config)\n"
   ]
  }
 ],
 "metadata": {
  "kernelspec": {
   "display_name": "Python 3.8.10 ('vtc2023')",
   "language": "python",
   "name": "python3"
  },
  "language_info": {
   "name": "python",
   "version": "3.8.10"
  },
  "orig_nbformat": 4,
  "vscode": {
   "interpreter": {
    "hash": "c66b02f374affbe3d5bec52588f4b5ad0e4368275fa3ed830708c03795e904fc"
   }
  }
 },
 "nbformat": 4,
 "nbformat_minor": 2
}
